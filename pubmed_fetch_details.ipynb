{
  "nbformat": 4,
  "nbformat_minor": 0,
  "metadata": {
    "colab": {
      "provenance": []
    },
    "kernelspec": {
      "name": "python3",
      "display_name": "Python 3"
    },
    "language_info": {
      "name": "python"
    }
  },
  "cells": [
    {
      "cell_type": "code",
      "source": [
        "!pip install xmltodict\n",
        "!pip install requests\n"
      ],
      "metadata": {
        "colab": {
          "base_uri": "https://localhost:8080/"
        },
        "id": "NR1dQCFPlHXm",
        "outputId": "385a28f8-6f4d-4b20-aa06-7517dc1fa079"
      },
      "execution_count": null,
      "outputs": [
        {
          "output_type": "stream",
          "name": "stdout",
          "text": [
            "Requirement already satisfied: xmltodict in /usr/local/lib/python3.10/dist-packages (0.14.2)\n",
            "Requirement already satisfied: requests in /usr/local/lib/python3.10/dist-packages (2.32.3)\n",
            "Requirement already satisfied: charset-normalizer<4,>=2 in /usr/local/lib/python3.10/dist-packages (from requests) (3.4.1)\n",
            "Requirement already satisfied: idna<4,>=2.5 in /usr/local/lib/python3.10/dist-packages (from requests) (3.10)\n",
            "Requirement already satisfied: urllib3<3,>=1.21.1 in /usr/local/lib/python3.10/dist-packages (from requests) (2.3.0)\n",
            "Requirement already satisfied: certifi>=2017.4.17 in /usr/local/lib/python3.10/dist-packages (from requests) (2024.12.14)\n"
          ]
        }
      ]
    },
    {
      "cell_type": "code",
      "execution_count": null,
      "metadata": {
        "colab": {
          "base_uri": "https://localhost:8080/"
        },
        "id": "X_tD5yLckozB",
        "outputId": "443e90c4-c4fe-457f-a8f2-45ca772f1a92"
      },
      "outputs": [
        {
          "output_type": "stream",
          "name": "stdout",
          "text": [
            "Fetched 5 PubMed IDs:\n",
            "39781294\n",
            "39780958\n",
            "39780583\n",
            "39780444\n",
            "39780285\n",
            "Fetching details for PubMed ID: 39781294...\n",
            "Fetching details for PubMed ID: 39780958...\n",
            "Fetching details for PubMed ID: 39780583...\n",
            "Error fetching details for PubMed ID 39780583: Failed to fetch data: 429\n",
            "Fetching details for PubMed ID: 39780444...\n",
            "Error fetching details for PubMed ID 39780444: Failed to fetch data: 429\n",
            "Fetching details for PubMed ID: 39780285...\n",
            "Error fetching details for PubMed ID 39780285: Failed to fetch data: 429\n",
            "Paper details saved to pubmed_papers.csv\n"
          ]
        }
      ],
      "source": [
        "\n",
        "import requests\n",
        "import xml\n",
        "import xmltodict\n",
        "\n",
        "class PubMedFetcher:\n",
        "    BASE_SEARCH_URL = \"https://eutils.ncbi.nlm.nih.gov/entrez/eutils/esearch.fcgi\"\n",
        "    BASE_SUMMARY_URL = \"https://eutils.ncbi.nlm.nih.gov/entrez/eutils/esummary.fcgi\"\n",
        "\n",
        "\n",
        "    #initialize the fetcher which reqs email for api compilance\n",
        "    def __init__(self, email: str):\n",
        "\n",
        "        self.email = email\n",
        "\n",
        "    def fetch_papers(self, query: str, max_results: int = 5):\n",
        "\n",
        "        params = {\n",
        "            \"db\": \"pubmed\",                  # db: Specifies the database to search (pubmed here).\n",
        "            \"term\": query,                   # term: The search query.\n",
        "            \"retmax\": max_results,           # retmax: Maximum number of results to retrieve.\n",
        "            \"retmode\": \"xml\",                # retmode: Specifies that results should be returned in xml format.\n",
        "            \"email\": self.email,             # email: User's email address for API compliance\n",
        "        }\n",
        "\n",
        "        response = requests.get(self.BASE_SEARCH_URL, params=params)\n",
        "\n",
        "        if response.status_code != 200: #should be 200\n",
        "            raise Exception(f\"Failed to fetch data: {response.status_code}\") #429\n",
        "\n",
        "        data = xmltodict.parse(response.text)\n",
        "        pubmed_ids = data[\"eSearchResult\"].get(\"IdList\", {}).get(\"Id\", [])\n",
        "\n",
        "        return pubmed_ids\n",
        "\n",
        "\n",
        "    def fetch_paper_details(self, pubmed_id: str):\n",
        "        params = {\n",
        "            \"db\": \"pubmed\", # ##fetch details for a specific paper using pubmed_id\n",
        "            \"id\": pubmed_id,\n",
        "            \"retmode\": \"xml\", #specifies that result should be in xml format\n",
        "            \"email\": self.email,\n",
        "        }\n",
        "        response = requests.get(self.BASE_SUMMARY_URL, params=params)\n",
        "\n",
        "        if response.status_code != 200:\n",
        "            raise Exception(f\"Failed to fetch data: {response.status_code}\") #429\n",
        "\n",
        "        data = xmltodict.parse(response.text)\n",
        "         #docsum is a structured part of the XML response returned by the esummary API endpoint(document summary)\n",
        "        docsum = data[\"eSummaryResult\"].get(\"DocSum\", {})\n",
        "        if not docsum:\n",
        "            return {\"PubMedID\": pubmed_id, \"Title\": \"N/A\", \"Publication_Date\": \"N/A\"}\n",
        "\n",
        "        items = docsum.get(\"Item\", [])\n",
        "        if not isinstance(items, list):  # If there's only one item, wrap it in a list\n",
        "\n",
        "            items = [items]\n",
        "###\"isinstance\" is a built-in Python function that checks if an object belongs to a specific class or a tuple of classes.\n",
        "\n",
        "        title = \"N/A\"\n",
        "        pub_date = \"N/A\"\n",
        "\n",
        "        for item in items:\n",
        "            if item.get(\"@Name\") == \"Title\":\n",
        "                title = item.get(\"#text\", \"N/A\")\n",
        "            elif item.get(\"@Name\") == \"PubDate\":\n",
        "                pub_date = item.get(\"#text\", \"N/A\")\n",
        "\n",
        "        return {\"PubmedID\": pubmed_id, \"Title\": title, \"Publication Date\": pub_date}\n",
        "\n",
        "import os\n",
        "import sys\n",
        "import csv\n",
        "\n",
        "def main():\n",
        "    # Initialize the PubMedFetcher with your email\n",
        "    fetcher = PubMedFetcher(email=\"armaan0sharma7@examole.com\")\n",
        "\n",
        "    # Use a sample query to fetch papers (you can change the query)\n",
        "    query = \"cancer AND vaccine\" #any biotech topic\n",
        "    max_results = 5\n",
        "\n",
        "\n",
        "    try:\n",
        "        # fetch papers based on the query\n",
        "        pubmed_ids = fetcher.fetch_papers(query=query, max_results=max_results)\n",
        "\n",
        "        # print the results\n",
        "        print(f\"Fetched {len(pubmed_ids)} PubMed IDs:\")\n",
        "        for pubmed_id in pubmed_ids:\n",
        "            print(pubmed_id)\n",
        "\n",
        "        ##fetch details for each paper\n",
        "        paper_details = []\n",
        "        for pubmed_id in pubmed_ids:\n",
        "            print(f\"Fetching details for PubMed ID: {pubmed_id}...\")\n",
        "            try:\n",
        "                details = fetcher.fetch_paper_details(pubmed_id=pubmed_id)\n",
        "                paper_details.append(details)\n",
        "            except Exception as e:\n",
        "                print(f\"Error fetching details for PubMed ID {pubmed_id}: {e}\")\n",
        "\n",
        "        # Save the paper details to a CSV file\n",
        "        csv_filename = \"pubmed_papers.csv\"\n",
        "        with open(csv_filename, mode=\"w\", newline=\"\", encoding=\"utf-8\") as csv_file:#\"utf-8\": Ensures proper handling of special characters@#$\n",
        "            writer = csv.DictWriter(csv_file, fieldnames=[\"PubmedID\", \"Title\", \"Publication Date\"])# A writer object that works with dictionaries\n",
        "            writer.writeheader()\n",
        "            writer.writerows(paper_details)\n",
        "\n",
        "        print(f\"Paper details saved to {csv_filename}\")\n",
        "\n",
        "\n",
        "    except Exception as e:\n",
        "        print(f\"Error: {e}\")\n",
        "\n",
        "if __name__ == \"__main__\":\n",
        "    main()\n",
        "\n"
      ]
    },
    {
      "cell_type": "code",
      "source": [
        "from google.colab import files\n",
        "files.download('pubmed_papers.csv')\n"
      ],
      "metadata": {
        "colab": {
          "base_uri": "https://localhost:8080/",
          "height": 17
        },
        "id": "aGHRqX2_p6rf",
        "outputId": "896b3a73-9be6-49b3-8504-04beb55d46c4"
      },
      "execution_count": null,
      "outputs": [
        {
          "output_type": "display_data",
          "data": {
            "text/plain": [
              "<IPython.core.display.Javascript object>"
            ],
            "application/javascript": [
              "\n",
              "    async function download(id, filename, size) {\n",
              "      if (!google.colab.kernel.accessAllowed) {\n",
              "        return;\n",
              "      }\n",
              "      const div = document.createElement('div');\n",
              "      const label = document.createElement('label');\n",
              "      label.textContent = `Downloading \"${filename}\": `;\n",
              "      div.appendChild(label);\n",
              "      const progress = document.createElement('progress');\n",
              "      progress.max = size;\n",
              "      div.appendChild(progress);\n",
              "      document.body.appendChild(div);\n",
              "\n",
              "      const buffers = [];\n",
              "      let downloaded = 0;\n",
              "\n",
              "      const channel = await google.colab.kernel.comms.open(id);\n",
              "      // Send a message to notify the kernel that we're ready.\n",
              "      channel.send({})\n",
              "\n",
              "      for await (const message of channel.messages) {\n",
              "        // Send a message to notify the kernel that we're ready.\n",
              "        channel.send({})\n",
              "        if (message.buffers) {\n",
              "          for (const buffer of message.buffers) {\n",
              "            buffers.push(buffer);\n",
              "            downloaded += buffer.byteLength;\n",
              "            progress.value = downloaded;\n",
              "          }\n",
              "        }\n",
              "      }\n",
              "      const blob = new Blob(buffers, {type: 'application/binary'});\n",
              "      const a = document.createElement('a');\n",
              "      a.href = window.URL.createObjectURL(blob);\n",
              "      a.download = filename;\n",
              "      div.appendChild(a);\n",
              "      a.click();\n",
              "      div.remove();\n",
              "    }\n",
              "  "
            ]
          },
          "metadata": {}
        },
        {
          "output_type": "display_data",
          "data": {
            "text/plain": [
              "<IPython.core.display.Javascript object>"
            ],
            "application/javascript": [
              "download(\"download_a9e5b244-82ec-4c3d-a985-d2a59250a9d6\", \"pubmed_papers.csv\", 329)"
            ]
          },
          "metadata": {}
        }
      ]
    }
  ]
}