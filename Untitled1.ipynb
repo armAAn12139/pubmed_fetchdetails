{
  "nbformat": 4,
  "nbformat_minor": 0,
  "metadata": {
    "colab": {
      "provenance": []
    },
    "kernelspec": {
      "name": "python3",
      "display_name": "Python 3"
    },
    "language_info": {
      "name": "python"
    }
  },
  "cells": [
    {
      "cell_type": "code",
      "source": [
        "!pip install xmltodict\n",
        "!pip install requests\n",
       
      ],
      "metadata": {
        "colab": {
          "base_uri": "https://localhost:8080/"
        },
        "id": "NR1dQCFPlHXm",
        "outputId": "17d90254-7058-4191-d41e-d956f73d7562"
      },
      "execution_count": 2,
      "outputs": [
        {
          "output_type": "stream",
          "name": "stdout",
          "text": [
            "Collecting xmltodict\n",
            "  Downloading xmltodict-0.14.2-py2.py3-none-any.whl.metadata (8.0 kB)\n",
            "Downloading xmltodict-0.14.2-py2.py3-none-any.whl (10.0 kB)\n",
            "Installing collected packages: xmltodict\n",
            "Successfully installed xmltodict-0.14.2\n",
            "Requirement already satisfied: requests in /usr/local/lib/python3.10/dist-packages (2.32.3)\n",
            "Requirement already satisfied: charset-normalizer<4,>=2 in /usr/local/lib/python3.10/dist-packages (from requests) (3.4.1)\n",
            "Requirement already satisfied: idna<4,>=2.5 in /usr/local/lib/python3.10/dist-packages (from requests) (3.10)\n",
            "Requirement already satisfied: urllib3<3,>=1.21.1 in /usr/local/lib/python3.10/dist-packages (from requests) (2.3.0)\n",
            "Requirement already satisfied: certifi>=2017.4.17 in /usr/local/lib/python3.10/dist-packages (from requests) (2024.12.14)\n",
            "\u001b[31mERROR: Could not find a version that satisfies the requirement turtle (from versions: none)\u001b[0m\u001b[31m\n",
            "\u001b[0m\u001b[31mERROR: No matching distribution found for turtle\u001b[0m\u001b[31m\n",
            "\u001b[0m"
          ]
        }
      ]
    },
    {
      "cell_type": "code",
      "execution_count": 12,
      "metadata": {
        "colab": {
          "base_uri": "https://localhost:8080/"
        },
        "id": "X_tD5yLckozB",
        "outputId": "29493c06-924c-463d-9814-975cb3b2ef73"
      },
      "outputs": [
        {
          "output_type": "stream",
          "name": "stdout",
          "text": [
            "Fetched 5 PubMed IDs:\n",
            "39781294\n",
            "39780958\n",
            "39780583\n",
            "39780444\n",
            "39780285\n",
            "Fetching details for PubMed ID: 39781294...\n",
            "Fetching details for PubMed ID: 39780958...\n",
            "Fetching details for PubMed ID: 39780583...\n",
            "Fetching details for PubMed ID: 39780444...\n",
            "Fetching details for PubMed ID: 39780285...\n",
            "Paper details saved to pubmed_papers.csv\n"
          ]
        }
      ],
      "source": [
       
        "import requests\n",
        "import xml\n",
        "import xmltodict\n",
        "\n",
        "class PubMedFetcher:\n",
        "    BASE_SEARCH_URL = \"https://eutils.ncbi.nlm.nih.gov/entrez/eutils/esearch.fcgi\"\n",
        "    BASE_SUMMARY_URL = \"https://eutils.ncbi.nlm.nih.gov/entrez/eutils/esummary.fcgi\"\n",
        "\n",
        "\n",
        "    #initialize the fetcher which reqs email for api compilance\n",
        "    def __init__(self, email: str):\n",
        "\n",
        "        self.email = email\n",
        "\n",
        "    def fetch_papers(self, query: str, max_results: int = 10):\n",
        "\n",
        "        params = {\n",
        "            \"db\": \"pubmed\",                  # db: Specifies the database to search (pubmed here).\n",
        "            \"term\": query,                   # term: The search query.\n",
        "            \"retmax\": max_results,           # retmax: Maximum number of results to retrieve.\n",
        "            \"retmode\": \"xml\",                # retmode: Specifies that results should be returned in xml format.\n",
        "            \"email\": self.email,             # email: User's email address for API compliance\n",
        "        }\n",
        "\n",
        "        response = requests.get(self.BASE_SEARCH_URL, params=params)\n",
        "\n",
        "        if response.status_code != 200:\n",
        "            raise Exception(f\"Failed to fetch data: {response.status_code}\")\n",
        "\n",
        "        data = xmltodict.parse(response.text)\n",
        "        pubmed_ids = data[\"eSearchResult\"].get(\"IdList\", {}).get(\"Id\", [])\n",
        "\n",
        "        return pubmed_ids\n",
        "\n",
        "\n",
        "    def fetch_paper_details(self, pubmed_id: str):\n",
        "        params = {\n",
        "            \"db\": \"pubmed\",\n",
        "            \"id\": pubmed_id,\n",
        "            \"retmode\": \"xml\",\n",
        "            \"email\": self.email,\n",
        "        }\n",
        "        response = requests.get(self.BASE_SUMMARY_URL, params=params)\n",
        "\n",
        "        if response.status_code != 200:\n",
        "            raise Exception(f\"Failed to fetch data: {response.status_code}\")\n",
        "\n",
        "        data = xmltodict.parse(response.text)\n",
        "        docsum = data[\"eSummaryResult\"].get(\"DocSum\", {})\n",
        "        if not docsum:\n",
        "            return {\"PubMedID\": pubmed_id, \"Title\": \"N/A\", \"Publication_Date\": \"N/A\"}\n",
        "\n",
        "        items = docsum.get(\"Item\", [])\n",
        "        if not isinstance(items, list):  # Ensure items is a list\n",
        "            items = [items]\n",
        "\n",
        "        title = \"N/A\"\n",
        "        pub_date = \"N/A\"\n",
        "\n",
        "        for item in items:\n",
        "            if item.get(\"@Name\") == \"Title\":\n",
        "                title = item.get(\"#text\", \"N/A\")\n",
        "            elif item.get(\"@Name\") == \"PubDate\":\n",
        "                pub_date = item.get(\"#text\", \"N/A\")\n",
        "\n",
        "        return {\"PubmedID\": pubmed_id, \"Title\": title, \"Publication Date\": pub_date}\n",
        "\n",
        "\n",
        "import os\n",
        "import sys\n",
        "import csv\n",
        "\n",
        "def main():\n",
        "    # Initialize the PubMedFetcher with your email\n",
        "    fetcher = PubMedFetcher(email=\"armaan0sh.com\")\n",
        "\n",
        "    # Use a sample query to fetch papers (you can change the query)\n",
        "    query = \"cancer AND vaccine\"\n",
        "    max_results = 5\n",
        "\n",
        "\n",
        "    try:\n",
        "        # fetch papers based on the query\n",
        "        pubmed_ids = fetcher.fetch_papers(query=query, max_results=max_results)\n",
        "\n",
        "        # print the results\n",
        "        print(f\"Fetched {len(pubmed_ids)} PubMed IDs:\")\n",
        "        for pubmed_id in pubmed_ids:\n",
        "         time.sleep(1)\n",   
        "            print(pubmed_id)\n",
        "\n",
        "        ##fetch details for each paper\n",
        "        paper_details = []\n",
        "        for pubmed_id in pubmed_ids:\n",
        "            print(f\"Fetching details for PubMed ID: {pubmed_id}...\")\n",
        "            try:\n",
        "                details = fetcher.fetch_paper_details(pubmed_id=pubmed_id)\n",
        "                paper_details.append(details)\n",
        "            except Exception as e:\n",
        "                print(f\"Error fetching details for PubMed ID {pubmed_id}: {e}\")\n",
        "\n",
        "        # Save the paper details to a CSV file\n",
        "        csv_filename = \"pubmed_papers.csv\"\n",
        "        with open(csv_filename, mode=\"w\", newline=\"\", encoding=\"utf-8\") as csv_file:#\"utf-8\": Ensures proper handling of special characters\n",
        "            writer = csv.DictWriter(csv_file, fieldnames=[\"PubmedID\", \"Title\", \"Publication Date\"])# A writer object that works with dictionaries\n",
        "            writer.writeheader()\n",
        "            writer.writerows(paper_details)\n",
        "\n",
        "        print(f\"Paper details saved to {csv_filename}\")\n",
        "\n",
        "\n",
        "    except Exception as e:\n",
        "        print(f\"Error: {e}\")\n",
        "\n",
        "if __name__ == \"__main__\":\n",
        "    main()\n",
        "\n"
      ]
    },
    {
      "cell_type": "code",
      "source": [
        "from google.colab import files\n",
        "files.download('pubmed_papers.csv')\n"
      ],
      "metadata": {
        "colab": {
          "base_uri": "https://localhost:8080/",
          "height": 17
        },
        "id": "aGHRqX2_p6rf",
        "outputId": "d6d46f15-94aa-4533-b8d8-33e378086ddc"
      },
      "execution_count": 13,
      "outputs": [
        {
          "output_type": "display_data",
          "data": {
            "text/plain": [
              "<IPython.core.display.Javascript object>"
            ],
            "application/javascript": [
              "\n",
              "    async function download(id, filename, size) {\n",
              "      if (!google.colab.kernel.accessAllowed) {\n",
              "        return;\n",
              "      }\n",
              "      const div = document.createElement('div');\n",
              "      const label = document.createElement('label');\n",
              "      label.textContent = `Downloading \"${filename}\": `;\n",
              "      div.appendChild(label);\n",
              "      const progress = document.createElement('progress');\n",
              "      progress.max = size;\n",
              "      div.appendChild(progress);\n",
              "      document.body.appendChild(div);\n",
              "\n",
              "      const buffers = [];\n",
              "      let downloaded = 0;\n",
              "\n",
              "      const channel = await google.colab.kernel.comms.open(id);\n",
              "      // Send a message to notify the kernel that we're ready.\n",
              "      channel.send({})\n",
              "\n",
              "      for await (const message of channel.messages) {\n",
              "        // Send a message to notify the kernel that we're ready.\n",
              "        channel.send({})\n",
              "        if (message.buffers) {\n",
              "          for (const buffer of message.buffers) {\n",
              "            buffers.push(buffer);\n",
              "            downloaded += buffer.byteLength;\n",
              "            progress.value = downloaded;\n",
              "          }\n",
              "        }\n",
              "      }\n",
              "      const blob = new Blob(buffers, {type: 'application/binary'});\n",
              "      const a = document.createElement('a');\n",
              "      a.href = window.URL.createObjectURL(blob);\n",
              "      a.download = filename;\n",
              "      div.appendChild(a);\n",
              "      a.click();\n",
              "      div.remove();\n",
              "    }\n",
              "  "
            ]
          },
          "metadata": {}
        },
        {
          "output_type": "display_data",
          "data": {
            "text/plain": [
              "<IPython.core.display.Javascript object>"
            ],
            "application/javascript": [
              "download(\"download_91688ed8-6471-4ba3-a8ce-81a4b73041b3\", \"pubmed_papers.csv\", 750)"
            ]
          },
          "metadata": {}
        }
      ]
    }
  ]
}
